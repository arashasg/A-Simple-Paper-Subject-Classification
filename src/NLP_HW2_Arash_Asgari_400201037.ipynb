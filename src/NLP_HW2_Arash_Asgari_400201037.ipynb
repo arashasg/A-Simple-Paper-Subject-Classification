{
  "nbformat": 4,
  "nbformat_minor": 0,
  "metadata": {
    "colab": {
      "name": "NLP_HW2_Arash Asgari_400201037.ipynb",
      "provenance": [],
      "collapsed_sections": []
    },
    "kernelspec": {
      "name": "python3",
      "display_name": "Python 3"
    },
    "language_info": {
      "name": "python"
    }
  },
  "cells": [
    {
      "cell_type": "markdown",
      "source": [
        "Name : Arash Asgari\n",
        "\n",
        "St Num: 400201037\n",
        "\n",
        "Paper Subject Classification and Clustering\n",
        "\n",
        "Link to Document: https://docs.google.com/document/d/1Zu0MznRUBjMRtcF63IZflAbNlBoNqPBSYd4UcqgCrUQ/edit?usp=sharing"
      ],
      "metadata": {
        "id": "2thdxkVzCNw7"
      }
    },
    {
      "cell_type": "code",
      "source": [
        "!pip install pymed"
      ],
      "metadata": {
        "colab": {
          "base_uri": "https://localhost:8080/"
        },
        "id": "y8f1lM5L8NBj",
        "outputId": "e49c38c2-c6ec-406c-d101-e895ff91dc21"
      },
      "execution_count": 28,
      "outputs": [
        {
          "output_type": "stream",
          "name": "stdout",
          "text": [
            "Collecting pymed\n",
            "  Downloading pymed-0.8.9-py3-none-any.whl (9.6 kB)\n",
            "Requirement already satisfied: requests>=2.20.0 in /usr/local/lib/python3.7/dist-packages (from pymed) (2.23.0)\n",
            "Requirement already satisfied: idna<3,>=2.5 in /usr/local/lib/python3.7/dist-packages (from requests>=2.20.0->pymed) (2.10)\n",
            "Requirement already satisfied: certifi>=2017.4.17 in /usr/local/lib/python3.7/dist-packages (from requests>=2.20.0->pymed) (2021.10.8)\n",
            "Requirement already satisfied: urllib3!=1.25.0,!=1.25.1,<1.26,>=1.21.1 in /usr/local/lib/python3.7/dist-packages (from requests>=2.20.0->pymed) (1.24.3)\n",
            "Requirement already satisfied: chardet<4,>=3.0.2 in /usr/local/lib/python3.7/dist-packages (from requests>=2.20.0->pymed) (3.0.4)\n",
            "Installing collected packages: pymed\n",
            "Successfully installed pymed-0.8.9\n"
          ]
        }
      ]
    },
    {
      "cell_type": "code",
      "source": [
        "from pymed import PubMed\n",
        "import nltk\n",
        "from nltk import sent_tokenize, word_tokenize\n",
        "from nltk.corpus import stopwords\n",
        "from collections import Counter\n",
        "import string"
      ],
      "metadata": {
        "id": "ujlzgCho8FED"
      },
      "execution_count": 78,
      "outputs": []
    },
    {
      "cell_type": "code",
      "source": [
        "nltk.download(\"punkt\")\n",
        "nltk.download('averaged_perceptron_tagger')\n",
        "nltk.download('stopwords')"
      ],
      "metadata": {
        "colab": {
          "base_uri": "https://localhost:8080/"
        },
        "id": "XhGk_CfgfXTh",
        "outputId": "de1533c7-9942-43ce-cd57-b211c69e2d70"
      },
      "execution_count": 74,
      "outputs": [
        {
          "output_type": "stream",
          "name": "stdout",
          "text": [
            "[nltk_data] Downloading package punkt to /root/nltk_data...\n",
            "[nltk_data]   Package punkt is already up-to-date!\n",
            "[nltk_data] Downloading package averaged_perceptron_tagger to\n",
            "[nltk_data]     /root/nltk_data...\n",
            "[nltk_data]   Package averaged_perceptron_tagger is already up-to-\n",
            "[nltk_data]       date!\n",
            "[nltk_data] Downloading package stopwords to /root/nltk_data...\n",
            "[nltk_data]   Unzipping corpora/stopwords.zip.\n"
          ]
        },
        {
          "output_type": "execute_result",
          "data": {
            "text/plain": [
              "True"
            ]
          },
          "metadata": {},
          "execution_count": 74
        }
      ]
    },
    {
      "cell_type": "markdown",
      "source": [
        "First we download 5000 abstracts of papers on 5 different subjects.\n",
        "\n",
        "Filter Papers with an abstranct length of more than 1000\n",
        "\n",
        "At last we keep 500 paper of each subject for training and 150 papers for testing."
      ],
      "metadata": {
        "id": "bQ9zWQj7CmgE"
      }
    },
    {
      "cell_type": "code",
      "source": [
        "from types import LambdaType\n",
        "from pymed import PubMed\n",
        "pubmed = PubMed(tool=\"MyTool\", email=\"my@email.address\")\n",
        "covid_papers = list(pubmed.query(\"covid-19\", max_results=1000))\n",
        "breast_papers = list(pubmed.query(\"breast cancer\", max_results=1000))\n",
        "heart_papers = list(pubmed.query(\"heart rate\", max_results=1000))\n",
        "eeg_papers = list(pubmed.query(\"eeg\", max_results=1000))\n",
        "obesity_papers = list(pubmed.query(\"obesity\", max_results=1000))"
      ],
      "metadata": {
        "id": "_RSz6mLB8d6P"
      },
      "execution_count": 53,
      "outputs": []
    },
    {
      "cell_type": "code",
      "source": [
        "def filter_paper(papers):\n",
        "  for paper in papers:\n",
        "    if (paper.abstract is None) or (len(paper.abstract) < 1000):\n",
        "      papers.remove(paper)\n",
        "  return papers"
      ],
      "metadata": {
        "id": "s9Lu3bOGX0xz"
      },
      "execution_count": 63,
      "outputs": []
    },
    {
      "cell_type": "code",
      "source": [
        "covid_papers = filter_paper(covid_papers)\n",
        "print(\"number of covid papers after filtering: \", len(covid_papers))\n",
        "breast_papers = filter_paper(breast_papers)\n",
        "print(\"number of breast cancer papers after filtering: \", len(breast_papers))\n",
        "heart_papers = filter_paper(heart_papers)\n",
        "print(\"number of heart rate papers after filtering: \", len(heart_papers))\n",
        "eeg_papers = filter_paper(eeg_papers)\n",
        "print(\"number of eeg papers after filtering: \", len(eeg_papers))\n",
        "obesity_papers = filter_paper(obesity_papers)\n",
        "print(\"number of obesity papers after filtering: \", len(obesity_papers))\n"
      ],
      "metadata": {
        "colab": {
          "base_uri": "https://localhost:8080/"
        },
        "id": "kKYkhT6tZLEV",
        "outputId": "72d10693-bcd2-48c9-8067-955175032f0c"
      },
      "execution_count": 124,
      "outputs": [
        {
          "output_type": "stream",
          "name": "stdout",
          "text": [
            "number of covid papers after filtering:  652\n",
            "number of breast cancer papers after filtering:  679\n",
            "number of heart rate papers after filtering:  805\n",
            "number of eeg papers after filtering:  796\n",
            "number of obesity papers after filtering:  709\n"
          ]
        }
      ]
    },
    {
      "cell_type": "code",
      "source": [
        "train_papers = [covid_papers[:500], breast_papers[:500], heart_papers[:500], eeg_papers[:500], obesity_papers[:500]]\n",
        "test_papers = [covid_papers[500:650], breast_papers[500:650], heart_papers[500:650], eeg_papers[500:650], obesity_papers[500:650]]"
      ],
      "metadata": {
        "id": "9kwskkizck8l"
      },
      "execution_count": 130,
      "outputs": []
    },
    {
      "cell_type": "markdown",
      "source": [
        "# Paper subject classification using word freq"
      ],
      "metadata": {
        "id": "uTrjj2eWdfbI"
      }
    },
    {
      "cell_type": "code",
      "source": [
        "def normalize_abstract(abstract : str):\n",
        "  sentences = sent_tokenize(abstract)\n",
        "  sentences = [word_tokenize(sentence) for sentence in sentences]\n",
        "  \n",
        "  sentences = normalize_sentence(sentences, lower_case=True)\n",
        "  return sentences\n"
      ],
      "metadata": {
        "id": "_LtEvAkEe3KM"
      },
      "execution_count": 129,
      "outputs": []
    },
    {
      "cell_type": "code",
      "source": [
        "def normalize_sentence(tokenized_sents, minimum_length=2, stopword_removal=True, stopwords_domain=[], lower_case=False, punctuation_removal=True):\n",
        "    '''\n",
        "    normalization function\n",
        "    '''\n",
        "    normalized_sents = tokenized_sents\n",
        "    \n",
        "    if stopword_removal:\n",
        "        # Remove stopwords in English and also the given domain stopwords\n",
        "        stopwords = [x.lower() for x in nltk.corpus.stopwords.words('english')]\n",
        "        normalized_sents=[[word for word in sentence if (word.lower() not in stopwords_domain + stopwords)] for sentence in tokenized_sents ]\n",
        "\n",
        "    if punctuation_removal:\n",
        "        # Remove punctuations\n",
        "        normalized_sents=[[word for word in sentence if word not in string.punctuation] for sentence in normalized_sents ]\n",
        "\n",
        "    if lower_case:\n",
        "        # Convert everything to lowercase and filter based on a min length\n",
        "        normalized_sents=[[word.lower() for word in sentence if len(word)>minimum_length] for sentence in normalized_sents ]\n",
        "\n",
        "    elif minimum_length>1:\n",
        "        normalized_sents= [[word for word in sentence if len(word)>minimum_length] for sentence in normalized_sents ]        \n",
        "        \n",
        "    return normalized_sents"
      ],
      "metadata": {
        "id": "Asb1nxY1gqHf"
      },
      "execution_count": 89,
      "outputs": []
    },
    {
      "cell_type": "code",
      "source": [
        "def create_total_doc(papers):\n",
        "  index = 0\n",
        "  merged_abstracts = []\n",
        "  for paper in papers:\n",
        "    index = index + 1\n",
        "    normalized_abstract = normalize_abstract(paper.abstract)\n",
        "    merged_abstracts = merged_abstracts + normalized_abstract\n",
        "  return merged_abstracts"
      ],
      "metadata": {
        "id": "OriYMZa9XnG-"
      },
      "execution_count": 135,
      "outputs": []
    },
    {
      "cell_type": "code",
      "source": [
        "total_docs = [create_total_doc(train_paper) for train_paper in train_papers]"
      ],
      "metadata": {
        "id": "XBLIsBLRmKH-"
      },
      "execution_count": 138,
      "outputs": []
    },
    {
      "cell_type": "code",
      "source": [
        "from nltk.probability import FreqDist\n",
        "import numpy as np\n",
        "import itertools\n",
        "\n",
        "def frequent_word_finder(total_doc, words_num = 20, keep_count = False):\n",
        "  mp_freqdist = FreqDist(itertools.chain(*total_doc))               # compute the frequency distribution\n",
        "  top_words=mp_freqdist.most_common(words_num)      # show the top (word, frequency) pairs\n",
        "  if keep_count:\n",
        "    return top_words\n",
        "  else:\n",
        "    return [word[0] for word in top_words]"
      ],
      "metadata": {
        "id": "-Y8gJaVitSiK"
      },
      "execution_count": 139,
      "outputs": []
    },
    {
      "cell_type": "code",
      "source": [
        "top_words_list = [frequent_word_finder(total_doc) for total_doc in total_docs]"
      ],
      "metadata": {
        "id": "vTN21p-DnOlz"
      },
      "execution_count": 140,
      "outputs": []
    },
    {
      "cell_type": "code",
      "source": [
        "def predict_paper(paper, top_words_list):\n",
        "  count_list = [0, 0, 0, 0, 0]\n",
        "  normalized_abstract = normalize_abstract(paper.abstract)\n",
        "  for sent in normalized_abstract:\n",
        "    for word in sent:\n",
        "      for ind, top_words in enumerate(top_words_list):\n",
        "        if word in top_words:\n",
        "          count_list[ind] = count_list[ind] + 1\n",
        "  return count_list"
      ],
      "metadata": {
        "id": "ZfUA4pe3sYoa"
      },
      "execution_count": 155,
      "outputs": []
    },
    {
      "cell_type": "code",
      "source": [
        "def predict_test_papers(test_papers_list, top_words_list):\n",
        "  results = []\n",
        "  for paper in test_papers_list:\n",
        "    res = predict_paper(paper, top_words_list)\n",
        "    results.append(res)\n",
        "  return results"
      ],
      "metadata": {
        "id": "w8mRIE5O9gLz"
      },
      "execution_count": 160,
      "outputs": []
    },
    {
      "cell_type": "code",
      "source": [
        "results = []\n",
        "for test_papers_list in test_papers :\n",
        "  res = predict_test_papers(test_papers_list, top_words_list)\n",
        "  results = results + res\n",
        "print(results)"
      ],
      "metadata": {
        "colab": {
          "base_uri": "https://localhost:8080/"
        },
        "id": "jNhwwhRH-U5w",
        "outputId": "76ca7e17-8630-4f77-848f-17859f69de9a"
      },
      "execution_count": 162,
      "outputs": [
        {
          "output_type": "stream",
          "name": "stdout",
          "text": [
            "[[10, 1, 5, 1, 10], [17, 6, 6, 4, 7], [2, 0, 0, 0, 0], [14, 5, 4, 3, 3], [9, 4, 3, 5, 3], [10, 8, 6, 8, 2], [10, 5, 11, 7, 8], [29, 3, 2, 2, 7], [23, 14, 13, 10, 8], [19, 3, 11, 4, 22], [6, 4, 2, 5, 0], [20, 17, 18, 11, 13], [10, 7, 14, 7, 10], [3, 2, 1, 0, 2], [5, 10, 8, 4, 3], [6, 7, 5, 6, 4], [25, 26, 26, 19, 18], [4, 0, 0, 1, 2], [15, 12, 11, 8, 12], [14, 11, 10, 3, 9], [8, 2, 2, 2, 1], [6, 3, 2, 3, 1], [8, 2, 2, 3, 2], [6, 5, 11, 5, 9], [24, 14, 14, 13, 12], [8, 3, 3, 2, 6], [21, 5, 5, 14, 2], [14, 11, 11, 11, 13], [15, 4, 2, 1, 4], [16, 1, 3, 2, 6], [14, 14, 16, 10, 18], [19, 2, 3, 4, 5], [5, 1, 0, 1, 2], [11, 4, 3, 3, 4], [6, 6, 4, 10, 6], [18, 11, 34, 9, 28], [25, 10, 16, 5, 20], [4, 3, 3, 3, 3], [5, 0, 1, 1, 1], [29, 6, 7, 6, 5], [5, 5, 4, 2, 3], [16, 8, 8, 6, 6], [12, 5, 8, 4, 9], [19, 8, 8, 8, 10], [23, 18, 23, 18, 8], [4, 3, 3, 1, 2], [22, 4, 6, 3, 5], [7, 5, 5, 3, 4], [25, 7, 15, 11, 12], [18, 10, 12, 10, 18], [4, 3, 8, 6, 2], [15, 8, 7, 4, 7], [17, 12, 10, 6, 7], [1, 0, 0, 0, 0], [32, 14, 12, 7, 18], [12, 2, 3, 1, 4], [6, 2, 3, 2, 5], [14, 8, 10, 8, 10], [8, 8, 6, 8, 4], [1, 2, 1, 1, 1], [28, 17, 29, 16, 24], [16, 10, 6, 11, 7], [12, 8, 10, 7, 1], [15, 6, 6, 6, 3], [0, 0, 0, 0, 0], [15, 2, 5, 3, 2], [8, 4, 3, 2, 7], [24, 8, 10, 11, 28], [13, 6, 4, 4, 1], [3, 2, 1, 0, 0], [44, 11, 10, 7, 13], [11, 4, 5, 4, 3], [21, 12, 9, 3, 7], [26, 12, 17, 13, 10], [16, 5, 5, 4, 13], [7, 2, 5, 2, 6], [8, 3, 2, 1, 1], [2, 2, 2, 6, 1], [2, 3, 2, 3, 2], [14, 2, 2, 1, 2], [6, 4, 4, 5, 0], [6, 4, 3, 4, 1], [13, 13, 12, 7, 7], [17, 11, 12, 11, 10], [6, 2, 2, 2, 1], [5, 4, 4, 2, 5], [7, 4, 4, 3, 2], [8, 3, 2, 3, 2], [7, 8, 6, 6, 1], [15, 12, 12, 8, 9], [14, 7, 4, 3, 3], [12, 3, 8, 0, 5], [3, 0, 1, 0, 0], [15, 12, 13, 11, 12], [21, 19, 7, 13, 3], [6, 4, 1, 0, 2], [17, 7, 7, 11, 8], [15, 10, 9, 8, 7], [11, 7, 9, 8, 9], [9, 5, 5, 6, 3], [16, 7, 8, 4, 12], [6, 7, 5, 4, 4], [15, 5, 5, 6, 11], [7, 2, 2, 10, 3], [5, 3, 1, 2, 0], [10, 4, 2, 4, 1], [13, 16, 13, 10, 10], [3, 0, 2, 3, 2], [13, 10, 6, 4, 11], [16, 1, 4, 1, 9], [12, 3, 4, 4, 7], [4, 5, 4, 2, 2], [8, 4, 3, 3, 10], [14, 4, 6, 4, 7], [13, 9, 9, 4, 7], [18, 5, 16, 5, 14], [14, 4, 9, 5, 10], [21, 5, 7, 7, 5], [5, 4, 4, 4, 4], [12, 2, 3, 3, 3], [17, 13, 11, 8, 8], [15, 6, 7, 6, 3], [30, 21, 36, 22, 23], [7, 6, 11, 5, 3], [46, 11, 16, 9, 12], [23, 5, 7, 4, 10], [6, 1, 3, 2, 4], [18, 11, 7, 3, 11], [5, 4, 9, 4, 13], [26, 5, 7, 0, 22], [4, 4, 3, 1, 0], [37, 6, 9, 3, 6], [11, 10, 10, 10, 4], [23, 4, 6, 5, 8], [12, 9, 10, 7, 6], [9, 6, 11, 0, 7], [15, 3, 4, 5, 2], [19, 8, 8, 10, 10], [9, 9, 11, 12, 13], [13, 1, 3, 2, 4], [32, 16, 19, 13, 17], [27, 16, 15, 16, 1], [22, 5, 6, 5, 7], [15, 11, 11, 10, 12], [8, 2, 3, 5, 3], [9, 4, 2, 2, 3], [23, 4, 4, 4, 6], [18, 5, 4, 3, 8], [11, 7, 5, 6, 3], [25, 6, 7, 4, 11], [2, 5, 5, 5, 4], [3, 7, 1, 7, 2], [6, 8, 9, 4, 11], [10, 19, 11, 11, 9], [0, 7, 1, 1, 1], [5, 19, 7, 10, 4], [1, 16, 2, 1, 1], [20, 19, 15, 10, 13], [5, 19, 16, 10, 7], [15, 36, 18, 11, 15], [11, 29, 20, 8, 14], [6, 20, 8, 11, 3], [5, 10, 3, 3, 8], [12, 20, 15, 14, 14], [4, 5, 2, 2, 2], [4, 8, 6, 5, 4], [6, 20, 8, 8, 3], [3, 7, 6, 3, 2], [5, 29, 7, 6, 5], [8, 22, 13, 15, 8], [13, 23, 14, 15, 10], [8, 19, 13, 9, 8], [2, 15, 2, 1, 2], [4, 13, 5, 9, 2], [3, 37, 11, 5, 4], [1, 13, 1, 2, 1], [4, 17, 8, 7, 2], [6, 9, 9, 4, 8], [2, 9, 2, 2, 1], [1, 6, 3, 2, 0], [10, 26, 13, 11, 13], [3, 6, 8, 5, 3], [6, 14, 6, 3, 7], [4, 15, 5, 6, 2], [0, 11, 2, 1, 0], [3, 13, 4, 3, 4], [15, 24, 22, 15, 12], [0, 10, 2, 2, 2], [4, 27, 4, 5, 6], [9, 14, 7, 5, 6], [1, 9, 0, 1, 3], [10, 19, 4, 4, 6], [2, 11, 3, 5, 1], [2, 8, 3, 3, 2], [2, 13, 2, 2, 1], [1, 10, 2, 1, 1], [3, 24, 6, 4, 6], [15, 45, 19, 10, 15], [0, 6, 1, 0, 0], [15, 17, 16, 12, 14], [12, 23, 19, 13, 12], [4, 7, 9, 7, 4], [15, 14, 6, 5, 3], [14, 14, 14, 10, 13], [1, 10, 1, 1, 3], [2, 6, 4, 4, 2], [5, 25, 4, 4, 5], [7, 23, 12, 9, 6], [1, 4, 1, 2, 5], [3, 17, 3, 3, 3], [1, 10, 2, 1, 0], [5, 10, 4, 5, 4], [3, 21, 4, 8, 2], [7, 16, 12, 9, 11], [8, 25, 12, 10, 9], [1, 8, 8, 4, 6], [1, 13, 0, 3, 2], [3, 10, 3, 1, 4], [5, 9, 8, 11, 5], [5, 15, 4, 4, 5], [18, 26, 18, 14, 14], [4, 17, 6, 5, 3], [6, 9, 7, 8, 3], [3, 17, 8, 2, 4], [5, 12, 11, 6, 7], [4, 18, 2, 4, 2], [5, 12, 8, 9, 6], [4, 21, 9, 9, 4], [6, 12, 4, 7, 5], [16, 40, 18, 15, 17], [6, 21, 5, 7, 7], [4, 18, 6, 4, 5], [1, 15, 3, 2, 2], [6, 16, 3, 3, 5], [4, 12, 8, 13, 7], [3, 16, 5, 3, 2], [5, 11, 8, 3, 6], [4, 13, 3, 4, 2], [5, 23, 6, 3, 7], [5, 3, 2, 2, 5], [4, 7, 3, 5, 5], [7, 29, 6, 12, 7], [1, 7, 1, 1, 0], [6, 17, 6, 7, 1], [3, 8, 3, 5, 3], [0, 17, 2, 1, 1], [4, 18, 4, 6, 3], [9, 23, 6, 9, 4], [4, 8, 3, 8, 2], [0, 6, 2, 0, 1], [6, 10, 7, 6, 2], [3, 21, 7, 4, 1], [3, 15, 11, 5, 5], [0, 8, 3, 1, 0], [8, 17, 8, 8, 7], [3, 24, 5, 5, 3], [3, 26, 4, 6, 2], [2, 18, 3, 3, 4], [1, 17, 12, 5, 3], [4, 16, 3, 5, 1], [1, 21, 1, 2, 0], [8, 19, 10, 7, 7], [15, 24, 17, 8, 21], [3, 16, 8, 6, 2], [0, 7, 1, 0, 3], [9, 22, 14, 13, 11], [7, 11, 5, 7, 8], [3, 22, 6, 5, 4], [5, 10, 9, 7, 10], [5, 12, 10, 5, 5], [10, 18, 10, 9, 8], [0, 11, 1, 1, 0], [4, 11, 10, 9, 3], [9, 14, 9, 10, 14], [1, 22, 2, 1, 1], [5, 15, 3, 6, 7], [2, 22, 5, 4, 2], [5, 4, 3, 3, 3], [8, 22, 15, 9, 11], [2, 7, 2, 2, 2], [1, 14, 3, 8, 7], [6, 22, 6, 3, 19], [4, 16, 5, 5, 2], [4, 24, 5, 9, 5], [6, 21, 8, 4, 13], [7, 14, 11, 9, 9], [6, 8, 6, 8, 0], [12, 44, 23, 12, 14], [11, 30, 20, 12, 19], [36, 23, 22, 19, 24], [3, 20, 9, 5, 4], [6, 8, 12, 5, 8], [12, 22, 12, 8, 6], [5, 19, 6, 5, 2], [5, 19, 6, 7, 4], [5, 3, 0, 0, 4], [3, 30, 10, 3, 6], [9, 11, 12, 10, 10], [11, 24, 12, 7, 15], [5, 16, 5, 5, 2], [21, 15, 28, 10, 27], [12, 12, 16, 12, 13], [22, 18, 23, 4, 23], [5, 2, 6, 8, 6], [16, 30, 23, 15, 16], [9, 10, 18, 12, 13], [6, 4, 19, 3, 14], [4, 5, 10, 4, 3], [1, 3, 4, 1, 3], [7, 9, 18, 8, 9], [15, 13, 29, 13, 20], [17, 32, 40, 24, 20], [5, 5, 16, 4, 4], [9, 10, 15, 5, 9], [9, 15, 15, 21, 5], [21, 17, 24, 16, 14], [10, 12, 16, 10, 10], [13, 16, 13, 11, 11], [25, 16, 31, 12, 15], [28, 15, 25, 15, 19], [5, 3, 10, 4, 3], [12, 10, 16, 5, 13], [15, 11, 25, 7, 20], [6, 5, 6, 4, 4], [2, 2, 9, 3, 6], [10, 10, 17, 10, 12], [41, 17, 30, 14, 23], [4, 4, 6, 3, 8], [10, 5, 8, 21, 3], [3, 4, 12, 6, 3], [7, 7, 26, 7, 12], [9, 13, 16, 10, 12], [1, 0, 3, 2, 0], [14, 12, 18, 9, 15], [16, 18, 19, 8, 17], [5, 11, 10, 10, 4], [12, 12, 32, 12, 19], [4, 1, 9, 3, 4], [9, 17, 16, 20, 13], [15, 22, 31, 18, 16], [2, 4, 5, 3, 2], [4, 11, 11, 6, 5], [30, 25, 27, 19, 17], [10, 23, 16, 11, 10], [10, 6, 6, 5, 9], [7, 9, 12, 10, 7], [6, 16, 13, 4, 7], [6, 8, 13, 10, 6], [24, 24, 51, 20, 26], [5, 18, 9, 11, 3], [13, 7, 16, 15, 3], [7, 6, 8, 7, 7], [1, 1, 4, 2, 2], [0, 5, 3, 3, 0], [1, 3, 4, 1, 1], [9, 14, 17, 11, 9], [5, 8, 14, 9, 6], [2, 3, 7, 3, 3], [15, 15, 30, 12, 29], [11, 12, 15, 9, 12], [10, 12, 22, 12, 12], [12, 8, 13, 10, 13], [5, 6, 10, 5, 7], [7, 8, 15, 7, 8], [0, 0, 12, 2, 3], [5, 8, 11, 8, 6], [4, 6, 14, 4, 3], [2, 11, 13, 5, 4], [4, 3, 8, 1, 5], [7, 7, 7, 6, 2], [18, 6, 12, 3, 12], [6, 4, 4, 4, 3], [0, 3, 8, 1, 0], [9, 11, 18, 11, 8], [11, 13, 13, 9, 12], [10, 14, 22, 13, 7], [10, 12, 18, 11, 13], [12, 11, 22, 13, 10], [4, 6, 13, 3, 6], [18, 18, 39, 25, 20], [17, 12, 17, 11, 15], [8, 7, 8, 10, 3], [1, 1, 3, 5, 2], [6, 8, 6, 6, 10], [16, 19, 24, 24, 17], [16, 17, 17, 14, 14], [8, 7, 9, 11, 8], [8, 11, 13, 9, 9], [10, 7, 15, 7, 8], [6, 7, 7, 7, 6], [15, 17, 23, 15, 15], [9, 15, 16, 12, 11], [1, 2, 9, 3, 3], [12, 12, 17, 7, 16], [25, 16, 21, 3, 29], [11, 10, 18, 8, 16], [11, 8, 22, 8, 19], [6, 9, 18, 8, 8], [11, 15, 22, 13, 12], [10, 10, 16, 10, 9], [5, 6, 20, 2, 13], [6, 9, 24, 7, 12], [2, 3, 9, 4, 2], [5, 4, 4, 4, 5], [2, 3, 6, 8, 2], [14, 16, 20, 19, 17], [6, 9, 10, 7, 3], [10, 12, 18, 8, 21], [20, 15, 22, 8, 21], [9, 9, 20, 5, 11], [3, 5, 5, 8, 3], [8, 9, 19, 7, 9], [19, 19, 38, 12, 18], [12, 1, 2, 3, 3], [5, 7, 10, 6, 6], [11, 10, 25, 10, 11], [5, 6, 17, 2, 21], [2, 5, 4, 5, 1], [11, 12, 12, 8, 11], [0, 3, 20, 2, 4], [5, 8, 9, 6, 5], [5, 6, 7, 4, 4], [2, 2, 5, 5, 2], [11, 10, 11, 11, 11], [8, 8, 21, 8, 13], [4, 4, 14, 3, 4], [4, 5, 8, 5, 14], [11, 17, 26, 12, 13], [18, 19, 29, 12, 30], [5, 6, 18, 9, 8], [5, 4, 8, 7, 3], [9, 7, 11, 6, 10], [4, 7, 23, 4, 13], [16, 16, 18, 23, 14], [0, 2, 4, 9, 0], [13, 17, 15, 12, 14], [4, 4, 8, 2, 7], [5, 7, 16, 7, 9], [4, 5, 9, 3, 6], [13, 18, 19, 14, 15], [2, 4, 3, 6, 1], [6, 10, 21, 10, 15], [22, 30, 27, 25, 20], [13, 13, 17, 9, 13], [8, 12, 17, 10, 12], [7, 7, 14, 7, 5], [9, 12, 26, 8, 14], [4, 4, 16, 2, 4], [10, 8, 10, 10, 11], [14, 5, 7, 2, 10], [12, 16, 16, 16, 13], [3, 0, 1, 10, 0], [3, 3, 5, 6, 2], [6, 5, 5, 19, 0], [4, 8, 7, 17, 4], [5, 5, 10, 5, 4], [5, 6, 7, 18, 3], [3, 3, 4, 7, 4], [2, 2, 3, 2, 3], [9, 11, 13, 18, 6], [2, 5, 5, 10, 6], [1, 6, 6, 11, 1], [8, 9, 10, 14, 5], [3, 4, 4, 1, 3], [19, 16, 16, 18, 3], [10, 12, 12, 19, 12], [1, 2, 1, 16, 4], [3, 6, 3, 9, 2], [4, 5, 1, 8, 4], [0, 0, 1, 3, 0], [1, 1, 1, 11, 2], [2, 2, 8, 10, 11], [1, 5, 2, 9, 2], [3, 3, 3, 6, 6], [8, 9, 9, 6, 9], [5, 6, 12, 10, 7], [6, 10, 12, 21, 3], [8, 14, 21, 22, 8], [1, 3, 2, 3, 2], [5, 4, 13, 11, 5], [16, 17, 19, 23, 9], [3, 6, 3, 8, 1], [6, 9, 7, 22, 9], [8, 7, 8, 18, 4], [2, 3, 2, 6, 1], [4, 8, 9, 6, 4], [5, 7, 6, 20, 4], [11, 11, 14, 12, 9], [9, 10, 8, 21, 3], [9, 16, 14, 28, 9], [3, 3, 4, 12, 2], [3, 2, 2, 7, 2], [13, 17, 16, 21, 17], [5, 4, 7, 12, 2], [1, 2, 6, 11, 1], [16, 10, 11, 11, 13], [0, 5, 4, 22, 3], [1, 3, 3, 5, 0], [4, 6, 5, 5, 3], [1, 0, 2, 15, 1], [7, 10, 7, 21, 7], [3, 5, 5, 10, 7], [6, 7, 9, 12, 3], [14, 10, 8, 16, 12], [9, 9, 12, 19, 11], [1, 1, 1, 1, 1], [9, 11, 8, 22, 3], [1, 2, 1, 10, 0], [3, 6, 6, 5, 4], [5, 11, 9, 15, 3], [5, 5, 6, 21, 1], [3, 3, 3, 9, 0], [9, 11, 10, 18, 5], [2, 1, 4, 5, 2], [6, 5, 6, 6, 5], [2, 2, 8, 7, 2], [3, 5, 5, 10, 2], [4, 9, 5, 18, 6], [7, 10, 11, 16, 7], [2, 3, 6, 12, 4], [6, 10, 8, 14, 2], [8, 10, 10, 16, 8], [5, 5, 7, 17, 8], [4, 5, 11, 9, 6], [0, 0, 1, 0, 1], [4, 4, 4, 10, 3], [5, 2, 2, 12, 2], [2, 1, 1, 11, 1], [2, 3, 2, 14, 1], [1, 1, 3, 8, 1], [2, 0, 1, 10, 2], [1, 1, 2, 9, 3], [7, 10, 15, 17, 9], [6, 5, 10, 15, 6], [7, 6, 12, 17, 9], [2, 3, 2, 13, 1], [13, 20, 22, 14, 17], [5, 7, 8, 24, 7], [3, 4, 3, 18, 3], [6, 11, 10, 13, 14], [4, 9, 5, 8, 5], [12, 12, 12, 31, 9], [3, 2, 2, 11, 2], [1, 2, 2, 7, 2], [8, 11, 11, 15, 5], [4, 3, 5, 11, 4], [12, 12, 17, 15, 10], [3, 6, 2, 14, 2], [7, 9, 10, 13, 4], [7, 9, 11, 13, 9], [2, 6, 5, 18, 2], [9, 28, 17, 18, 14], [3, 9, 7, 16, 3], [4, 8, 4, 13, 0], [8, 8, 7, 11, 8], [4, 3, 5, 12, 0], [1, 3, 1, 3, 2], [3, 6, 5, 3, 4], [2, 1, 1, 3, 1], [0, 1, 0, 13, 0], [2, 7, 8, 13, 0], [3, 4, 2, 10, 2], [5, 4, 6, 10, 1], [2, 2, 5, 13, 4], [2, 3, 1, 9, 0], [19, 12, 14, 21, 21], [3, 1, 5, 7, 4], [1, 2, 4, 13, 1], [5, 3, 4, 10, 3], [4, 3, 2, 4, 1], [1, 3, 2, 4, 1], [9, 9, 10, 16, 8], [0, 5, 1, 6, 1], [4, 3, 3, 12, 3], [4, 6, 5, 18, 6], [0, 0, 4, 2, 4], [5, 4, 4, 15, 0], [7, 7, 5, 12, 0], [8, 7, 7, 14, 11], [5, 6, 6, 8, 2], [1, 2, 1, 7, 2], [12, 13, 13, 20, 7], [12, 16, 15, 30, 12], [2, 5, 2, 10, 0], [3, 3, 3, 15, 0], [7, 6, 5, 14, 4], [9, 8, 8, 11, 9], [1, 3, 3, 11, 3], [2, 1, 2, 4, 0], [4, 5, 3, 9, 3], [3, 3, 3, 6, 1], [23, 21, 22, 28, 25], [4, 2, 3, 6, 4], [5, 5, 5, 9, 0], [6, 6, 7, 5, 6], [3, 5, 4, 17, 6], [15, 15, 22, 33, 17], [5, 9, 6, 17, 6], [2, 2, 4, 9, 5], [4, 7, 3, 14, 1], [4, 2, 4, 2, 6], [11, 8, 13, 3, 22], [1, 2, 2, 2, 10], [41, 23, 32, 18, 35], [0, 2, 3, 1, 2], [8, 7, 11, 7, 14], [10, 9, 12, 7, 13], [15, 12, 16, 7, 37], [17, 11, 10, 5, 19], [6, 9, 20, 7, 11], [2, 5, 2, 1, 7], [5, 8, 10, 4, 28], [23, 17, 16, 14, 23], [10, 5, 9, 7, 14], [4, 8, 10, 7, 5], [5, 6, 13, 11, 21], [5, 13, 13, 4, 7], [4, 5, 13, 4, 18], [5, 5, 5, 2, 7], [4, 4, 12, 4, 10], [3, 4, 5, 3, 7], [5, 7, 5, 7, 5], [1, 5, 1, 2, 7], [7, 3, 10, 5, 17], [4, 4, 12, 5, 23], [6, 2, 2, 3, 10], [4, 3, 4, 3, 1], [5, 9, 8, 8, 12], [15, 13, 14, 12, 12], [10, 11, 9, 15, 16], [19, 11, 10, 6, 19], [3, 4, 18, 3, 9], [8, 16, 9, 8, 21], [18, 14, 26, 14, 28], [13, 13, 22, 12, 15], [12, 10, 14, 10, 18], [21, 9, 16, 9, 30], [10, 11, 16, 4, 25], [3, 5, 10, 2, 11], [3, 4, 3, 1, 3], [5, 4, 4, 4, 8], [10, 12, 23, 14, 21], [0, 3, 1, 0, 1], [3, 7, 8, 3, 24], [2, 1, 1, 3, 3], [1, 2, 4, 2, 2], [19, 6, 5, 7, 22], [2, 4, 1, 1, 4], [10, 8, 12, 5, 19], [5, 3, 3, 0, 5], [6, 5, 10, 1, 11], [6, 6, 5, 3, 10], [22, 3, 10, 4, 12], [5, 4, 3, 4, 7], [2, 6, 2, 1, 9], [22, 17, 18, 8, 20], [3, 9, 15, 7, 10], [13, 17, 10, 9, 23], [10, 6, 5, 4, 6], [3, 4, 5, 9, 5], [7, 5, 22, 4, 55], [2, 4, 4, 4, 6], [5, 5, 5, 6, 15], [4, 5, 4, 3, 6], [0, 0, 0, 1, 4], [8, 14, 17, 14, 20], [2, 6, 5, 4, 4], [0, 1, 1, 6, 2], [17, 24, 16, 12, 18], [4, 0, 0, 6, 5], [1, 3, 2, 2, 9], [9, 14, 10, 8, 12], [3, 24, 6, 4, 6], [26, 8, 10, 6, 14], [8, 16, 9, 8, 12], [4, 4, 13, 7, 19], [7, 7, 9, 6, 26], [10, 12, 12, 3, 24], [4, 7, 5, 4, 12], [10, 10, 11, 9, 11], [14, 13, 17, 11, 28], [5, 12, 10, 7, 13], [11, 2, 2, 2, 19], [14, 11, 19, 19, 22], [14, 14, 19, 8, 20], [1, 5, 13, 1, 8], [18, 15, 19, 12, 20], [9, 11, 17, 11, 12], [6, 7, 22, 9, 24], [4, 5, 5, 4, 11], [10, 8, 11, 7, 23], [14, 8, 13, 8, 19], [16, 16, 16, 6, 27], [12, 9, 11, 5, 17], [3, 6, 6, 4, 14], [8, 9, 8, 6, 18], [3, 5, 4, 2, 7], [11, 7, 8, 7, 12], [1, 10, 3, 0, 7], [8, 9, 9, 4, 17], [10, 9, 12, 12, 14], [3, 6, 2, 1, 9], [3, 4, 8, 3, 12], [1, 1, 7, 4, 12], [13, 11, 29, 4, 43], [20, 28, 13, 8, 29], [2, 4, 2, 2, 12], [2, 1, 4, 3, 12], [7, 7, 12, 9, 12], [9, 4, 3, 6, 4], [9, 10, 12, 6, 14], [7, 6, 5, 4, 12], [14, 13, 12, 7, 14], [0, 10, 3, 2, 3], [2, 6, 2, 4, 6], [5, 5, 4, 4, 9], [3, 6, 2, 4, 8], [3, 4, 3, 1, 9], [13, 9, 8, 10, 16], [4, 13, 7, 4, 12], [3, 4, 2, 4, 3], [3, 9, 5, 6, 3], [2, 7, 3, 3, 6], [6, 9, 7, 7, 4], [5, 4, 4, 7, 9], [1, 7, 6, 4, 11], [11, 11, 9, 5, 13], [4, 8, 5, 9, 4], [2, 4, 2, 6, 5], [4, 6, 2, 3, 2], [9, 8, 6, 4, 11], [6, 6, 6, 9, 7], [2, 4, 3, 2, 6], [8, 9, 8, 6, 24], [1, 1, 3, 2, 6], [12, 11, 12, 3, 19], [4, 5, 3, 3, 10], [1, 1, 3, 0, 2], [15, 24, 17, 8, 21], [12, 8, 10, 0, 15], [1, 3, 1, 0, 9], [23, 8, 7, 6, 12], [3, 8, 3, 5, 4], [2, 2, 2, 1, 8], [10, 6, 6, 10, 13], [5, 4, 5, 4, 5], [9, 8, 10, 6, 28], [7, 4, 3, 2, 14], [2, 8, 1, 4, 11], [4, 13, 4, 5, 4]]\n"
          ]
        }
      ]
    },
    {
      "cell_type": "code",
      "source": [
        "predictions = np.argmax(np.array(results), axis = 1)\n",
        "labels = np.repeat(np.array([0, 1, 2, 3, 4]), 150)"
      ],
      "metadata": {
        "id": "5_xKCrnB_YYe"
      },
      "execution_count": 171,
      "outputs": []
    },
    {
      "cell_type": "code",
      "source": [
        "from sklearn.metrics import plot_confusion_matrix, accuracy_score\n",
        "from sklearn.metrics import confusion_matrix\n",
        "import seaborn as sns\n",
        "cm = confusion_matrix(predictions, labels)\n",
        "ax = sns.heatmap(cm, annot = True)"
      ],
      "metadata": {
        "colab": {
          "base_uri": "https://localhost:8080/",
          "height": 265
        },
        "id": "-4o_ZtJdAOWL",
        "outputId": "a2c0e342-9178-4628-82eb-8102c943afc9"
      },
      "execution_count": 176,
      "outputs": [
        {
          "output_type": "display_data",
          "data": {
            "text/plain": [
              "<Figure size 432x288 with 2 Axes>"
            ],
            "image/png": "[encoded data removed]"
          },
          "metadata": {
            "needs_background": "light"
          }
        }
      ]
    },
    {
      "cell_type": "code",
      "source": [
        "print(\"our accuracy using this procedure:\")\n",
        "print(accuracy_score(labels, predictions))"
      ],
      "metadata": {
        "colab": {
          "base_uri": "https://localhost:8080/"
        },
        "id": "SnP-VMMmDjNf",
        "outputId": "24d2eb1f-9195-4c57-8b02-93fa1799ebb5"
      },
      "execution_count": 178,
      "outputs": [
        {
          "output_type": "stream",
          "name": "stdout",
          "text": [
            "our accuracy using this procedure:\n",
            "0.764\n"
          ]
        }
      ]
    },
    {
      "cell_type": "code",
      "source": [
        "!pip install git+https://github.com/LIAAD/yake"
      ],
      "metadata": {
        "colab": {
          "base_uri": "https://localhost:8080/"
        },
        "id": "2xtBmF34E4ze",
        "outputId": "e53b5287-13a6-4293-a2f7-c59675323e1c"
      },
      "execution_count": 179,
      "outputs": [
        {
          "output_type": "stream",
          "name": "stdout",
          "text": [
            "Collecting git+https://github.com/LIAAD/yake\n",
            "  Cloning https://github.com/LIAAD/yake to /tmp/pip-req-build-uk8poqpt\n",
            "  Running command git clone -q https://github.com/LIAAD/yake /tmp/pip-req-build-uk8poqpt\n",
            "Requirement already satisfied: tabulate in /usr/local/lib/python3.7/dist-packages (from yake==0.4.8) (0.8.9)\n",
            "Requirement already satisfied: click>=6.0 in /usr/local/lib/python3.7/dist-packages (from yake==0.4.8) (7.1.2)\n",
            "Requirement already satisfied: numpy in /usr/local/lib/python3.7/dist-packages (from yake==0.4.8) (1.21.6)\n",
            "Collecting segtok\n",
            "  Downloading segtok-1.5.11-py3-none-any.whl (24 kB)\n",
            "Requirement already satisfied: networkx in /usr/local/lib/python3.7/dist-packages (from yake==0.4.8) (2.6.3)\n",
            "Collecting jellyfish\n",
            "  Downloading jellyfish-0.9.0.tar.gz (132 kB)\n",
            "\u001b[K     |████████████████████████████████| 132 kB 6.4 MB/s \n",
            "\u001b[?25hRequirement already satisfied: regex in /usr/local/lib/python3.7/dist-packages (from segtok->yake==0.4.8) (2019.12.20)\n",
            "Building wheels for collected packages: yake, jellyfish\n",
            "  Building wheel for yake (setup.py) ... \u001b[?25l\u001b[?25hdone\n",
            "  Created wheel for yake: filename=yake-0.4.8-py2.py3-none-any.whl size=62565 sha256=0de19bec15dca2d3549984e64899376d9843ff94829bda83f03a44b2b8c8ea8c\n",
            "  Stored in directory: /tmp/pip-ephem-wheel-cache-bizp6_4q/wheels/52/79/f4/dae9309f60266aa3767a4381405002b6f2955fbcf038d804da\n",
            "  Building wheel for jellyfish (setup.py) ... \u001b[?25l\u001b[?25hdone\n",
            "  Created wheel for jellyfish: filename=jellyfish-0.9.0-cp37-cp37m-linux_x86_64.whl size=73980 sha256=2ae7881d5e990221be0c51ba1d22bdf87236398073d58e4b96f11a88387bf988\n",
            "  Stored in directory: /root/.cache/pip/wheels/fe/99/4e/646ce766df0d070b0ef04db27aa11543e2767fda3075aec31b\n",
            "Successfully built yake jellyfish\n",
            "Installing collected packages: segtok, jellyfish, yake\n",
            "Successfully installed jellyfish-0.9.0 segtok-1.5.11 yake-0.4.8\n"
          ]
        }
      ]
    }
  ]
}